{
 "cells": [
  {
   "cell_type": "code",
   "execution_count": 1,
   "id": "faca99ae",
   "metadata": {},
   "outputs": [],
   "source": [
    "import os\n",
    "import numpy as np\n",
    "import matplotlib.pyplot as plt\n",
    "import sys\n",
    "import astropy.units as u\n",
    "import galsim as gs\n",
    "sys.path.insert(0, \"/home/jiachuan/kl-tools_spencer/kl_tools\")\n",
    "sys.path.insert(0, \"/home/jiachuan/kl-tools_spencer/kl_tools/grism_modules\")\n",
    "from tngsim import TNGsimulation as ts\n",
    "import cube\n",
    "import emission\n",
    "import grism\n",
    "from emission import LINE_LAMBDAS"
   ]
  },
  {
   "cell_type": "code",
   "execution_count": 2,
   "id": "77c73778",
   "metadata": {},
   "outputs": [
    {
     "name": "stdout",
     "output_type": "stream",
     "text": [
      "closest snapshot to desired redshift 0.5 is at http://www.tng-project.org/api/TNG50-1/snapshots/67/ \n"
     ]
    }
   ],
   "source": [
    "z = 0.5\n",
    "subhalo = ts()\n",
    "subhalo.set_subhalo(subhaloid=2, redshift=z)"
   ]
  },
  {
   "cell_type": "code",
   "execution_count": 3,
   "id": "c3b1bb18",
   "metadata": {},
   "outputs": [
    {
     "name": "stdout",
     "output_type": "stream",
     "text": [
      "Choosing  indices\n",
      "Reading particle data.\n",
      "Subsampling particle data.\n",
      "Calculating velocity offsets\n",
      "Calculating position offsets\n",
      "Centering\n",
      "Discretizing positions\n",
      "Populating datacube\n"
     ]
    },
    {
     "name": "stderr",
     "output_type": "stream",
     "text": [
      "100%|████████████████████████████| 3600/3600 [00:01<00:00, 1992.79it/s]\n"
     ]
    }
   ],
   "source": [
    "#   - pixel scale [arcsec/pixel, scalar]\n",
    "#   - vector of wavelength spaxel centers [angstroms]\n",
    "#   - spectral resolution [ scalar float, lambda/delta_lambda]\n",
    "#   - redshift (default to _requested_ subhalo redshift) [scalar float]\n",
    "#   - dimensions of the datacube [nlam, nx, ny]\n",
    "wave_grid = np.linspace(9000, 12000, 300)\n",
    "dlam = wave_grid[1:] - wave_grid[:-1]\n",
    "bandpasses = [gs.Bandpass(\n",
    "            1.0, 'A', blue_limit=il-dl, red_limit=il+dl, zeropoint=22.5\n",
    "            ) for il,dl in zip(wave_grid, dlam/2.)]\n",
    "\n",
    "line_pars_dict = {\n",
    "    'value': LINE_LAMBDAS['Ha'].value,\n",
    "    'R': 461*(LINE_LAMBDAS['Ha']*(1+subhalo.redshift)/(1*u.micron)).to('1').value,\n",
    "    'z': subhalo.redshift, \n",
    "    'unit': LINE_LAMBDAS['Ha'].unit,\n",
    "}\n",
    "sed_pars_dict = {\n",
    "    'lblue': wave_grid[0],\n",
    "    'lred': wave_grid[-1],\n",
    "    'resolution': 10,\n",
    "    'unit': u.Angstrom,\n",
    "}\n",
    "Ha_line = emission.EmissionLine(line_pars_dict, sed_pars_dict)\n",
    "pars_dict = {\n",
    "    'pix_scale': 0.11,\n",
    "    'shape': [wave_grid.shape[0]-1, 60, 60],\n",
    "    'emission_lines': [Ha_line],\n",
    "    #'psf': ,\n",
    "    'bandpasses': bandpasses,\n",
    "}\n",
    "\n",
    "pars = cube.CubePars(pars_dict)\n",
    "\n",
    "dc = subhalo.to_cube(pars)"
   ]
  },
  {
   "cell_type": "code",
   "execution_count": 5,
   "id": "e856b478",
   "metadata": {},
   "outputs": [
    {
     "data": {
      "text/plain": [
       "<matplotlib.colorbar.Colorbar at 0x7f9a61c5aa00>"
      ]
     },
     "execution_count": 5,
     "metadata": {},
     "output_type": "execute_result"
    },
    {
     "data": {
      "image/png": "[encoded data removed]",
      "text/plain": [
       "<Figure size 432x288 with 2 Axes>"
      ]
     },
     "metadata": {
      "needs_background": "light"
     },
     "output_type": "display_data"
    }
   ],
   "source": [
    "\n",
    "cb = plt.imshow(np.sum(dc._data, axis=0), origin='lower')\n",
    "plt.colorbar(cb)"
   ]
  },
  {
   "cell_type": "code",
   "execution_count": 6,
   "id": "d1faea93",
   "metadata": {},
   "outputs": [
    {
     "data": {
      "text/plain": [
       "<matplotlib.colorbar.Colorbar at 0x7f9a61b25220>"
      ]
     },
     "execution_count": 6,
     "metadata": {},
     "output_type": "execute_result"
    },
    {
     "data": {
      "image/png": "[encoded data removed]",
      "text/plain": [
       "<Figure size 432x288 with 2 Axes>"
      ]
     },
     "metadata": {
      "needs_background": "light"
     },
     "output_type": "display_data"
    }
   ],
   "source": [
    "cb = plt.imshow(np.sum(dc._data, axis=1), origin='lower')\n",
    "plt.colorbar(cb)"
   ]
  },
  {
   "cell_type": "code",
   "execution_count": 8,
   "id": "899ceb1a",
   "metadata": {},
   "outputs": [],
   "source": [
    "inds = np.arange(subhalo._particleData['PartType0']['Coordinates'][:,0].size)[(subhalo._line_flux.value > 1e-5) & (np.isfinite(subhalo._line_flux.value))]\n",
    "deltav = subhalo._particleData['PartType0']['Velocities'][:,2] * np.sqrt(1./(1+subhalo.redshift)) * u.km/u.s\n",
    "deltav = deltav[inds]"
   ]
  },
  {
   "cell_type": "code",
   "execution_count": 25,
   "id": "376cae37",
   "metadata": {},
   "outputs": [],
   "source": [
    "inds = np.arange(subhalo._particleData['PartType0']['Coordinates'][:,0].size)[(subhalo._line_flux.value > 1e-5) & (np.isfinite(subhalo._line_flux.value))]"
   ]
  },
  {
   "cell_type": "code",
   "execution_count": 5,
   "id": "1eff1a1d",
   "metadata": {},
   "outputs": [
    {
     "data": {
      "text/plain": [
       "0.5"
      ]
     },
     "execution_count": 5,
     "metadata": {},
     "output_type": "execute_result"
    }
   ],
   "source": [
    "subhalo.redshift"
   ]
  },
  {
   "cell_type": "code",
   "execution_count": null,
   "id": "bdc321ee",
   "metadata": {},
   "outputs": [],
   "source": [
    "def _grism_photon_distribution(modelcube, modelmesh, image, image_coord, offset, Rspec, ):\n",
    "    ''' distribute photons in the 3d model cube into 2d dispersed grism image\n",
    "    \n",
    "    Inputs:\n",
    "    =======\n",
    "        - modelcube: np.ndarray\n",
    "            The 3d model cube. Values are in units of [photons/sec/cm2]\n",
    "        - modelmesh: np.ndarray\n",
    "            The 2d meshgrid of coordiates\n",
    "    '''\n",
    "    "
   ]
  },
  {
   "cell_type": "markdown",
   "id": "24c58cc9",
   "metadata": {},
   "source": [
    "## Scratch Below"
   ]
  },
  {
   "cell_type": "code",
   "execution_count": 27,
   "id": "241a30de",
   "metadata": {},
   "outputs": [],
   "source": [
    "PartG = subhalo._particleData['PartType0']\n",
    "PartSW = subhalo._particleData['PartType4']"
   ]
  },
  {
   "cell_type": "code",
   "execution_count": 9,
   "id": "272882ba",
   "metadata": {},
   "outputs": [
    {
     "data": {
      "text/plain": [
       "<KeysViewHDF5 ['Header', 'PartType0', 'PartType1', 'PartType4', 'PartType5']>"
      ]
     },
     "execution_count": 9,
     "metadata": {},
     "output_type": "execute_result"
    }
   ],
   "source": [
    "subhalo._particleData.keys()"
   ]
  },
  {
   "cell_type": "code",
   "execution_count": 11,
   "id": "c9e0a5af",
   "metadata": {},
   "outputs": [
    {
     "data": {
      "text/plain": [
       "<KeysViewHDF5 ['CenterOfMass', 'Coordinates', 'Density', 'ElectronAbundance', 'EnergyDissipation', 'GFM_AGNRadiation', 'GFM_CoolingRate', 'GFM_Metallicity', 'GFM_Metals', 'GFM_MetalsTagged', 'GFM_WindDMVelDisp', 'GFM_WindHostHaloMass', 'InternalEnergy', 'Machnumber', 'MagneticField', 'MagneticFieldDivergence', 'Masses', 'NeutralHydrogenAbundance', 'ParticleIDs', 'Potential', 'StarFormationRate', 'SubfindDMDensity', 'SubfindDensity', 'SubfindHsml', 'SubfindVelDisp', 'Velocities']>"
      ]
     },
     "execution_count": 11,
     "metadata": {},
     "output_type": "execute_result"
    }
   ],
   "source": [
    "subhalo._particleData['PartType0'].keys()"
   ]
  },
  {
   "cell_type": "code",
   "execution_count": 26,
   "id": "5f1a50fb",
   "metadata": {},
   "outputs": [
    {
     "data": {
      "text/plain": [
       "<KeysViewHDF5 ['BirthPos', 'BirthVel', 'Coordinates', 'GFM_InitialMass', 'GFM_Metallicity', 'GFM_Metals', 'GFM_MetalsTagged', 'GFM_StellarFormationTime', 'GFM_StellarPhotometrics', 'Masses', 'ParticleIDs', 'Potential', 'StellarHsml', 'SubfindDMDensity', 'SubfindDensity', 'SubfindHsml', 'SubfindVelDisp', 'Velocities']>"
      ]
     },
     "execution_count": 26,
     "metadata": {},
     "output_type": "execute_result"
    }
   ],
   "source": [
    "subhalo._particleData['PartType4'].keys()"
   ]
  },
  {
   "cell_type": "code",
   "execution_count": 18,
   "id": "349f480c",
   "metadata": {},
   "outputs": [
    {
     "data": {
      "text/plain": [
       "array([ 7090.34009336, 23504.87221613, 19960.84156963])"
      ]
     },
     "execution_count": 18,
     "metadata": {},
     "output_type": "execute_result"
    }
   ],
   "source": [
    "subhalo._particleData['PartType0/Coordinates'][0]"
   ]
  },
  {
   "cell_type": "code",
   "execution_count": 19,
   "id": "213d69c5",
   "metadata": {},
   "outputs": [
    {
     "data": {
      "text/plain": [
       "array([ 7089.869, 23505.225, 19960.674], dtype=float32)"
      ]
     },
     "execution_count": 19,
     "metadata": {},
     "output_type": "execute_result"
    }
   ],
   "source": [
    "subhalo._particleData['PartType0/CenterOfMass'][0]"
   ]
  },
  {
   "cell_type": "code",
   "execution_count": 23,
   "id": "9da2d4a2",
   "metadata": {},
   "outputs": [
    {
     "data": {
      "text/plain": [
       "array([[850.86584 , 554.5735  , 565.90466 ],\n",
       "       [430.78275 ,  43.473965, 458.3545  ],\n",
       "       [960.801   , 542.3647  , 810.2293  ],\n",
       "       ...,\n",
       "       [477.21945 , 410.59344 , 774.37366 ],\n",
       "       [638.70496 , 578.7693  , 693.1923  ],\n",
       "       [405.11935 , 245.05135 , 601.71936 ]], dtype=float32)"
      ]
     },
     "execution_count": 23,
     "metadata": {},
     "output_type": "execute_result"
    }
   ],
   "source": [
    "subhalo._particleData['PartType0/Velocities'][:]"
   ]
  },
  {
   "cell_type": "code",
   "execution_count": 32,
   "id": "5ca5a4d7",
   "metadata": {},
   "outputs": [
    {
     "data": {
      "text/plain": [
       "<matplotlib.collections.PathCollection at 0x7f6ae525f910>"
      ]
     },
     "execution_count": 32,
     "metadata": {},
     "output_type": "execute_result"
    },
    {
     "data": {
      "image/png": "[encoded data removed]",
      "text/plain": [
       "<Figure size 432x288 with 1 Axes>"
      ]
     },
     "metadata": {
      "needs_background": "light"
     },
     "output_type": "display_data"
    }
   ],
   "source": [
    "plt.scatter(PartSW['Coordinates'][:,0], PartSW['Coordinates'][:,1], 1)"
   ]
  },
  {
   "cell_type": "code",
   "execution_count": 34,
   "id": "0313fcbe",
   "metadata": {},
   "outputs": [],
   "source": [
    "attrs = vars(subhalo)"
   ]
  },
  {
   "cell_type": "code",
   "execution_count": 36,
   "id": "73611470",
   "metadata": {},
   "outputs": [
    {
     "data": {
      "text/plain": [
       "dict_keys(['base_url', 'cosmo', 'redshift', '_sim_name', '_snapshot', '_subhalo', '_cachefile', '_particleData', '_particleTemp', '_starFlux', '_line_flux'])"
      ]
     },
     "execution_count": 36,
     "metadata": {},
     "output_type": "execute_result"
    }
   ],
   "source": [
    "attrs.keys()"
   ]
  },
  {
   "cell_type": "code",
   "execution_count": 37,
   "id": "855031d9",
   "metadata": {},
   "outputs": [
    {
     "data": {
      "text/plain": [
       "0.5"
      ]
     },
     "execution_count": 37,
     "metadata": {},
     "output_type": "execute_result"
    }
   ],
   "source": [
    "subhalo.redshift"
   ]
  },
  {
   "cell_type": "code",
   "execution_count": 40,
   "id": "339b365a",
   "metadata": {},
   "outputs": [
    {
     "data": {
      "text/plain": [
       "6564.589"
      ]
     },
     "execution_count": 40,
     "metadata": {},
     "output_type": "execute_result"
    }
   ],
   "source": [
    " LINE_LAMBDAS['Ha'].value"
   ]
  },
  {
   "cell_type": "code",
   "execution_count": 6,
   "id": "3f79a8d0",
   "metadata": {},
   "outputs": [
    {
     "data": {
      "text/latex": [
       "$\\mathrm{\\mathring{A}}$"
      ],
      "text/plain": [
       "Unit(\"Angstrom\")"
      ]
     },
     "execution_count": 6,
     "metadata": {},
     "output_type": "execute_result"
    }
   ],
   "source": [
    "u.Angstrom"
   ]
  },
  {
   "cell_type": "code",
   "execution_count": 11,
   "id": "2408fd81",
   "metadata": {},
   "outputs": [
    {
     "data": {
      "text/plain": [
       "1.0000000000000002e-08"
      ]
     },
     "execution_count": 11,
     "metadata": {},
     "output_type": "execute_result"
    }
   ],
   "source": [
    "(u.Unit('Angstrom')/u.cm).to('1')"
   ]
  },
  {
   "cell_type": "code",
   "execution_count": null,
   "id": "1a3c3833",
   "metadata": {},
   "outputs": [],
   "source": []
  }
 ],
 "metadata": {
  "kernelspec": {
   "display_name": "Python [conda env:kltools]",
   "language": "python",
   "name": "conda-env-kltools-py"
  },
  "language_info": {
   "codemirror_mode": {
    "name": "ipython",
    "version": 3
   },
   "file_extension": ".py",
   "mimetype": "text/x-python",
   "name": "python",
   "nbconvert_exporter": "python",
   "pygments_lexer": "ipython3",
   "version": "3.9.7"
  }
 },
 "nbformat": 4,
 "nbformat_minor": 5
}
