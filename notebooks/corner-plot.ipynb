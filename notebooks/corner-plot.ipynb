{
 "cells": [
  {
   "cell_type": "code",
   "execution_count": 1,
   "id": "9564d8df-85a4-4fdd-bcfa-aed8f090ef8c",
   "metadata": {},
   "outputs": [],
   "source": [
    "import matplotlib.pyplot as plt\n",
    "import pickle\n",
    "import os\n",
    "\n",
    "%matplotlib inline"
   ]
  },
  {
   "cell_type": "code",
   "execution_count": 3,
   "id": "31a6f237-b39b-4395-9d00-4d3529b437fc",
   "metadata": {},
   "outputs": [
    {
     "ename": "ModuleNotFoundError",
     "evalue": "No module named 'mcmc'",
     "output_type": "error",
     "traceback": [
      "\u001b[0;31m---------------------------------------------------------------------------\u001b[0m",
      "\u001b[0;31mModuleNotFoundError\u001b[0m                       Traceback (most recent call last)",
      "\u001b[0;32m/var/folders/92/vynp_rhj5v555c18dmsmnrpc0000gq/T/ipykernel_35453/2382747010.py\u001b[0m in \u001b[0;36m<module>\u001b[0;34m\u001b[0m\n\u001b[1;32m      7\u001b[0m     \u001b[0;31m# truth = pickle.load(f)\u001b[0m\u001b[0;34m\u001b[0m\u001b[0;34m\u001b[0m\u001b[0m\n\u001b[1;32m      8\u001b[0m \u001b[0;31m#     sampler = pickle.load(f)\u001b[0m\u001b[0;34m\u001b[0m\u001b[0;34m\u001b[0m\u001b[0m\n\u001b[0;32m----> 9\u001b[0;31m     \u001b[0mrunner\u001b[0m \u001b[0;34m=\u001b[0m \u001b[0mpickle\u001b[0m\u001b[0;34m.\u001b[0m\u001b[0mload\u001b[0m\u001b[0;34m(\u001b[0m\u001b[0mf\u001b[0m\u001b[0;34m)\u001b[0m\u001b[0;34m\u001b[0m\u001b[0;34m\u001b[0m\u001b[0m\n\u001b[0m\u001b[1;32m     10\u001b[0m \u001b[0;34m\u001b[0m\u001b[0m\n\u001b[1;32m     11\u001b[0m \u001b[0mprint\u001b[0m\u001b[0;34m(\u001b[0m\u001b[0mrunner\u001b[0m\u001b[0;34m)\u001b[0m\u001b[0;34m\u001b[0m\u001b[0;34m\u001b[0m\u001b[0m\n",
      "\u001b[0;31mModuleNotFoundError\u001b[0m: No module named 'mcmc'"
     ]
    }
   ],
   "source": [
    "kl_dir = '/Users/sweveret/repos/kl-tools/tests/test-mcmc-run/palomar-exp-1.85e4'\n",
    "# fname = 'test-mcmc-truth.pkl'\n",
    "# fname = 'test-mcmc-sampler.pkl'\n",
    "fname = 'test-mcmc-runner.pkl'\n",
    "fpath = os.path.join(kl_dir, fname)\n",
    "with open(fpath, 'rb') as f:\n",
    "    # truth = pickle.load(f)\n",
    "#     sampler = pickle.load(f)\n",
    "    runner = pickle.load(f)\n",
    "    \n",
    "print(runner)"
   ]
  },
  {
   "cell_type": "code",
   "execution_count": 4,
   "id": "9c15b84b-22df-4475-b12c-54f494207443",
   "metadata": {},
   "outputs": [
    {
     "name": "stdout",
     "output_type": "stream",
     "text": [
      "chain-probabilities.pkl  corner-map.png           test-mcmc-sampler.pkl\n",
      "chain-probabilities.png  corner-truth.png         test-mcmc-truth.pkl\n",
      "chains.png               datacube-slices.png      true-im.png\n",
      "compare-data-to-map.png  datacube.fits            vmap.png\n",
      "compare-vmap-to-map.png  test-mcmc-runner.pkl\n"
     ]
    }
   ],
   "source": [
    "ls /Users/sweveret/repos/kl-tools/tests/test-mcmc-run/palomar-exp-1.85e4"
   ]
  },
  {
   "cell_type": "code",
   "execution_count": null,
   "id": "fead8acd-bc01-43aa-938f-1dc9bb38baa1",
   "metadata": {},
   "outputs": [],
   "source": []
  }
 ],
 "metadata": {
  "kernelspec": {
   "display_name": "Python 3 (ipykernel)",
   "language": "python",
   "name": "python3"
  },
  "language_info": {
   "codemirror_mode": {
    "name": "ipython",
    "version": 3
   },
   "file_extension": ".py",
   "mimetype": "text/x-python",
   "name": "python",
   "nbconvert_exporter": "python",
   "pygments_lexer": "ipython3",
   "version": "3.9.7"
  }
 },
 "nbformat": 4,
 "nbformat_minor": 5
}
