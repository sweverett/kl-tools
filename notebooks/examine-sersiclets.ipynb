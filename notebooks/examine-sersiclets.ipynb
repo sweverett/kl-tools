{
 "cells": [
  {
   "cell_type": "code",
   "execution_count": 12,
   "id": "095124be-0419-43d0-b7d6-e75c5527e6f3",
   "metadata": {},
   "outputs": [],
   "source": [
    "import numpy as np\n",
    "import os, sys\n",
    "import galsim as gs\n",
    "from galsim.angle import Angle, radians\n",
    "import astropy.units as u\n",
    "import matplotlib.pyplot as plt\n",
    "from matplotlib import colors\n",
    "\n",
    "tk_path = '/Users/sweveret/repos/kl-tools/kl_tools'\n",
    "sys.path.insert(0, tk_path)\n",
    "from velocity import VelocityMap\n",
    "import transformation as transform\n",
    "import likelihood, cube, priors, utils, basis\n",
    "\n",
    "%matplotlib inline\n",
    "\n",
    "%load_ext autoreload\n",
    "%autoreload 2"
   ]
  },
  {
   "cell_type": "code",
   "execution_count": 8,
   "id": "58458072-ee44-45ca-8e29-7e1f7688e62c",
   "metadata": {},
   "outputs": [],
   "source": [
    "true_pars = {\n",
    "    'g1': 0.05,\n",
    "    'g2': -0.025,\n",
    "    'theta_int': np.pi / 3,\n",
    "    'sini': 0.8,\n",
    "    'v0': 10.,\n",
    "    'vcirc': 200,\n",
    "    'rscale': 5,\n",
    "}\n",
    "\n",
    "# additional args needed for prior / likelihood evaluation\n",
    "halpha = 656.28 # nm\n",
    "R = 5000.\n",
    "z = 0.3\n",
    "pars = {\n",
    "    'Nx': 30, # pixels\n",
    "    'Ny': 30, # pixels\n",
    "    'pix_scale': 1., # arcsec / pixel\n",
    "    'true_flux': 1e5, # counts\n",
    "    'true_hlr': 5, # pixels\n",
    "    'v_unit': u.Unit('km / s'),\n",
    "    'r_unit': u.Unit('kpc'),\n",
    "    'z': z,\n",
    "    'spec_resolution': R,\n",
    "    'line_std': halpha * (1.+z) / R, # emission line SED std; nm\n",
    "    'line_value': 656.28, # emission line SED std; nm\n",
    "    'line_unit': u.Unit('nm'),\n",
    "    'sed_start': 655,\n",
    "    'sed_end': 657.5,\n",
    "    'sed_resolution': 0.025,\n",
    "    'sed_unit': u.Unit('nm'),\n",
    "    'cov_sigma': 3, # pixel counts; dummy value\n",
    "    'bandpass_throughput': '.2',\n",
    "    'bandpass_unit': 'nm',\n",
    "    'bandpass_zp': 30,\n",
    "    'priors': {\n",
    "        'g1': priors.GaussPrior(0., 0.3),#, clip_sigmas=2),\n",
    "        'g2': priors.GaussPrior(0., 0.3),#, clip_sigmas=2),\n",
    "        'theta_int': priors.UniformPrior(0., np.pi),\n",
    "        'sini': priors.UniformPrior(0., 1.),\n",
    "        'v0': priors.UniformPrior(0, 20),\n",
    "        'vcirc': priors.GaussPrior(200, 10, zero_boundary='positive'),# clip_sigmas=2),\n",
    "        'rscale': priors.UniformPrior(0, 10),\n",
    "    },\n",
    "    'intensity': {\n",
    "        # For this test, use truth info\n",
    "        # 'type': 'inclined_exp',\n",
    "        # 'flux': 1e5, # counts\n",
    "        # 'hlr': 5, # pixels\n",
    "        'type': 'basis',\n",
    "        'basis_type': 'sersiclets',\n",
    "        'basis_kwargs': {\n",
    "            'Nmax': 3,\n",
    "            'plane': 'obs',\n",
    "            'index': 1,\n",
    "            'b': 1\n",
    "            }\n",
    "    },\n",
    "    # 'marginalize_intensity': True,\n",
    "    # 'psf': gs.Gaussian(fwhm=3), # fwhm in pixels\n",
    "    'use_numba': False,\n",
    "}"
   ]
  },
  {
   "cell_type": "code",
   "execution_count": 4,
   "id": "a98fa79f-650e-4b88-9e3c-0c47214f9ed3",
   "metadata": {},
   "outputs": [
    {
     "name": "stdout",
     "output_type": "stream",
     "text": [
      "Setting up test datacube and true Halpha image\n"
     ]
    }
   ],
   "source": [
    "# make datavector\n",
    "li, le, dl = 655.8, 656.8, 0.1\n",
    "lambdas = [(l, l+dl) for l in np.arange(li, le, dl)]\n",
    "\n",
    "bandpasses = cube.setup_simple_bandpasses(\n",
    "    li, le, dl,\n",
    "    throughput=pars['bandpass_throughput'],\n",
    "    zp=pars['bandpass_zp'],\n",
    "    unit=pars['bandpass_unit']\n",
    "    )\n",
    "\n",
    "Nx, Ny = 30, 30\n",
    "Nspec = len(lambdas)\n",
    "shape = (Nx, Ny, Nspec)\n",
    "print('Setting up test datacube and true Halpha image')\n",
    "datacube, sed, vmap, true_im = likelihood.setup_likelihood_test(\n",
    "    true_pars, pars, shape, lambdas\n",
    "    )"
   ]
  },
  {
   "cell_type": "code",
   "execution_count": 14,
   "id": "288b8dd8-9751-40a4-905f-f960ae9a57a9",
   "metadata": {},
   "outputs": [],
   "source": [
    "def make_basis_imap(theta_pars, datacube, pars):\n",
    "    imap = likelihood._setup_imap(theta_pars, datacube, pars)\n",
    "    i = imap.render(theta_pars, datacube, pars)\n",
    "    marg = imap.fitter.compute_marginalization_det(pars=pars, log=True)\n",
    "    mle = imap.fitter.mle_coefficients\n",
    "    \n",
    "    return i, marg, mle"
   ]
  },
  {
   "cell_type": "code",
   "execution_count": 30,
   "id": "cad5ab4f-8d6c-491e-b914-b905c540066d",
   "metadata": {},
   "outputs": [],
   "source": []
  },
  {
   "cell_type": "code",
   "execution_count": 74,
   "id": "d22c2e6f-8b43-4193-b075-e624f6acb8b3",
   "metadata": {},
   "outputs": [
    {
     "data": {
      "image/png": "[encoded data removed]",
      "text/plain": [
       "<Figure size 648x504 with 8 Axes>"
      ]
     },
     "metadata": {
      "needs_background": "light"
     },
     "output_type": "display_data"
    }
   ],
   "source": [
    "pars['intensity']['basis_kwargs']['Nmax'] = 5\n",
    "pars['intensity']['basis_kwargs']['plane'] = 'disk'\n",
    "pars['intensity']['basis_kwargs']['b'] = 1\n",
    "\n",
    "imap, marg, mle = make_basis_imap(true_pars, datacube, pars)\n",
    "\n",
    "plt.subplot(221)\n",
    "plt.imshow(true_im, origin='lower')\n",
    "plt.colorbar()\n",
    "plt.title('True im')\n",
    "\n",
    "plt.subplot(222)\n",
    "plt.imshow(imap, origin='lower')\n",
    "plt.colorbar()\n",
    "plt.title('Sersiclets')\n",
    "\n",
    "plt.subplot(223)\n",
    "resid = imap - true_im\n",
    "plt.imshow(resid, origin='lower')\n",
    "plt.colorbar()\n",
    "sig = pars['cov_sigma']\n",
    "chi2 = np.sum((resid/sig)**2) / (Nx*Ny)\n",
    "plt.title(f'Residual (chi2={chi2:.3f})')\n",
    "\n",
    "plt.subplot(224)\n",
    "vmin, vmax = -10, 10\n",
    "plt.imshow(100.*resid/true_im, origin='lower', vmin=vmin, vmax=vmax)\n",
    "plt.colorbar()\n",
    "plt.title('% residual')\n",
    "\n",
    "plt.gcf().set_size_inches(9,7)"
   ]
  },
  {
   "cell_type": "code",
   "execution_count": null,
   "id": "22a4eb7c-72bb-41c9-9546-3ee3e16de1d5",
   "metadata": {},
   "outputs": [],
   "source": []
  }
 ],
 "metadata": {
  "kernelspec": {
   "display_name": "Python 3 (ipykernel)",
   "language": "python",
   "name": "python3"
  },
  "language_info": {
   "codemirror_mode": {
    "name": "ipython",
    "version": 3
   },
   "file_extension": ".py",
   "mimetype": "text/x-python",
   "name": "python",
   "nbconvert_exporter": "python",
   "pygments_lexer": "ipython3",
   "version": "3.9.7"
  }
 },
 "nbformat": 4,
 "nbformat_minor": 5
}
